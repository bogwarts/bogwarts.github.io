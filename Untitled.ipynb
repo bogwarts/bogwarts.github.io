{
 "cells": [
  {
   "cell_type": "code",
   "execution_count": 4,
   "metadata": {},
   "outputs": [],
   "source": [
    "import os\n",
    "import sys\n",
    "from PIL import Image\n",
    "\n",
    "imageFolder = 'assets/comics'\n",
    "resizeFactor = '20'\n",
    "\n",
    "def resize(folder, fileName, factor):\n",
    "    filePath = os.path.join(folder, fileName)\n",
    "    im = Image.open(filePath)\n",
    "    w, h  = im.size\n",
    "    newIm = im.resize((int(w*factor), int(h*factor)), Image.ANTIALIAS)\n",
    "    # i am saving a copy, you can overrider orginal, or save to other folder\n",
    "    savePath = os.path.join(folder, 'lowres', fileName)\n",
    "    newIm.save(savePath, quality=100)\n",
    "\n",
    "def bulkResize(imageFolder, factor):\n",
    "    imgExts = [\"png\", \"bmp\", \"jpg\"]\n",
    "    print(imageFolder)\n",
    "    for path, dirs, files in os.walk(imageFolder):\n",
    "        for fileName in files:\n",
    "            ext = fileName[-3:].lower()\n",
    "            if ext not in imgExts:\n",
    "                continue\n",
    "\n",
    "            resize(path, fileName, factor)\n",
    "\n",
    "resizeFactor=float(resizeFactor)/100.0# 2nd is resize in %\n",
    "# bulkResize(imageFolder, resizeFactor)\n",
    "\n",
    "resize('assets/comics', '21.png', resizeFactor)"
   ]
  },
  {
   "cell_type": "code",
   "execution_count": null,
   "metadata": {},
   "outputs": [],
   "source": []
  }
 ],
 "metadata": {
  "kernelspec": {
   "display_name": "Python 3",
   "language": "python",
   "name": "python3"
  },
  "language_info": {
   "codemirror_mode": {
    "name": "ipython",
    "version": 3
   },
   "file_extension": ".py",
   "mimetype": "text/x-python",
   "name": "python",
   "nbconvert_exporter": "python",
   "pygments_lexer": "ipython3",
   "version": "3.7.4"
  }
 },
 "nbformat": 4,
 "nbformat_minor": 2
}
